{
 "metadata": {
  "name": "",
  "signature": "sha256:ed92119c08cf4eb6e70c650c126418650b9324f8f093e8ba4f7d8cd62a9fb349"
 },
 "nbformat": 3,
 "nbformat_minor": 0,
 "worksheets": [
  {
   "cells": [
    {
     "cell_type": "code",
     "collapsed": false,
     "input": [
      "import sys\n",
      "sys.path.append('/vagrant/cosmic-cube')"
     ],
     "language": "python",
     "metadata": {},
     "outputs": [],
     "prompt_number": 71
    },
    {
     "cell_type": "code",
     "collapsed": false,
     "input": [
      "import os\n",
      "import tesseract\n",
      "from vision import VisionImage\n",
      "import cv2\n",
      "import cv2.cv as cv\n",
      "\n",
      "from matplotlib import pyplot as plt\n",
      "from matplotlib import rcParams as pltSettings\n",
      "\n",
      "pltSettings['figure.figsize'] = (12.0, 24.0)\n",
      "pltSettings['figure.dpi'] = 160\n",
      "\n",
      "VAGRANT_PATH = '/vagrant/'\n",
      "TESSDATA = '/usr/share/tesseract-ocr/tessdata/'\n",
      "\n",
      "SAMPLE_DATA_PATH = os.path.join(VAGRANT_PATH, 'sample-data/')\n",
      "\n",
      "SAMPLE_PDF_IMAGE = os.path.join(SAMPLE_DATA_PATH, 'kbmt-tv-ad-4.ppm')"
     ],
     "language": "python",
     "metadata": {},
     "outputs": [],
     "prompt_number": 81
    },
    {
     "cell_type": "code",
     "collapsed": false,
     "input": [
      "api = tesseract.TessBaseAPI()\n",
      "api.Init(TESSDATA,\"eng\",tesseract.OEM_DEFAULT)\n",
      "api.SetPageSegMode(tesseract.PSM_AUTO)"
     ],
     "language": "python",
     "metadata": {},
     "outputs": [],
     "prompt_number": 82
    },
    {
     "cell_type": "code",
     "collapsed": false,
     "input": [
      "vimg = VisionImage(SAMPLE_PDF_IMAGE)"
     ],
     "language": "python",
     "metadata": {},
     "outputs": [],
     "prompt_number": 83
    },
    {
     "cell_type": "markdown",
     "metadata": {},
     "source": [
      "## Tesseract on grayscale image (no thresholding)\n",
      "Perhaps threshholding makes the ocr worse, or python-tesseract is doing its own processsing (it uses opencv)"
     ]
    },
    {
     "cell_type": "code",
     "collapsed": false,
     "input": [
      "tesseract.SetCvImage(vimg.grayscale_iplimage, api)\n",
      "norm_text=api.GetUTF8Text()\n",
      "print(norm_text)"
     ],
     "language": "python",
     "metadata": {},
     "outputs": [
      {
       "output_type": "stream",
       "stream": "stdout",
       "text": [
        "Rep Order# 9358799 Ver#\n",
        "EC\u2018d Yes\n",
        "\n",
        "Station KBMT-TV BEAUMONT\n",
        "Advertiser (ABGR) ABBOTT, GREG\n",
        "\n",
        "Product Texans For Greg Abbo\n",
        "Estimate# 1823\n",
        "\n",
        "Buyer Patti Heck\n",
        "\n",
        "Octzou: 40/ $2,700.00\n",
        "\n",
        "Order Totals: 40 / $2,700.00\n",
        "\n",
        "--- COMPETITIVE ---\n",
        "Market Totals\n",
        "\n",
        "Books [null]\n",
        "Demos RA35+\n",
        "--- CREDIT RISK \u2014\n",
        "\n",
        "STANDARD CREDIT TERMS\n",
        "\n",
        "I Status Confirmed\n",
        "\n",
        "Agency\n",
        "Flight Dates\n",
        "Total GRPS: 0.0\n",
        "$22 , soo . oo CARL\n",
        "KUIL\n",
        "\n",
        "ORDER WORKSHEET\n",
        "\n",
        "Traf\ufb01c Order#\n",
        "Last Received:\n",
        "Showing Buylines:\n",
        "\n",
        "(CRSS) CROSSROADS MEDIA LLC\n",
        "\n",
        "66 CANAL CENTER PLAZA, SUITE 555\n",
        "ALEXANDRIA, VA 22314\n",
        "\n",
        "Agency ClPI/PZ/E\n",
        "\n",
        "96/198/1823\n",
        "10/07/14-10/13/14\n",
        "\n",
        "KBM'I\u2018 12.001 IETV 5.00%\n",
        "UNKN .0015\n",
        "\n",
        "Printed: 06/27/l4 12:23 PM\n",
        "06/27/14 12:22 PM\n",
        "All Buylines\n",
        "\n",
        "Rep Firm KATZ CONTINENTAL\n",
        "Sales Office (DC) WASHINGTON\n",
        "Salesperson (LR4) LAURA REPP\n",
        "Saies Assistant DEVON\n",
        "\n",
        "Salesperson Phonc#\n",
        "Salesperson Fax# 917-206-0428\n",
        "KFDM 63.00% KJAC 20.00%\n",
        "\n",
        "40f\n",
        "\n",
        "\n"
       ]
      }
     ],
     "prompt_number": 84
    },
    {
     "cell_type": "code",
     "collapsed": false,
     "input": [
      "tesseract.SetCvImage(vimg.otsu_iplimage, api)\n",
      "otsu_text=api.GetUTF8Text()\n",
      "print(otsu_text)"
     ],
     "language": "python",
     "metadata": {},
     "outputs": [
      {
       "output_type": "stream",
       "stream": "stdout",
       "text": [
        "Rep Orderil 9358799 Verit\n",
        "EC'd Yes\n",
        "\n",
        "Station KBMT-TV BEAUMONT\n",
        "Advertiser (ABGR) ABBOTT, GREG\n",
        "\n",
        "Product Texans For Greg Abbo\n",
        "Estimate! 1823\n",
        "Buyer Patti Heck\n",
        "Octzou: so/ $2,700.00\n",
        "Order Totals: 40 / $2 , 700.00\n",
        "-\u2014- COMPETITIVE --\n",
        "\n",
        "Market Totals\n",
        "Books [null]\n",
        "Demos \u201c35+\n",
        "- CREDI'I\u2018 RISK \u2014\n",
        "\n",
        "STANDARD CREDIT TERMS\n",
        "\n",
        "| Status Con\ufb01rmed\n",
        "\n",
        "Agency\n",
        "\n",
        "ORDER WORKSHEET\n",
        "\n",
        "Traf\ufb01c Order#\n",
        "Last Received:\n",
        "Showing Buylines:\n",
        "\n",
        "(CRSS) CROSSROADS MEDIA LLC\n",
        "66 CANAL CENTER PLAZA, SUITE 555\n",
        "ALEXANDRIA, VA 22314\n",
        "\n",
        "Agency C/PIIPZIE 96/198/1823\n",
        "\n",
        "Flight Dates\n",
        "\n",
        "Total GRPS: 0. 0\n",
        "\n",
        "$22,500.00 CARL\n",
        "\n",
        "lO/O7/l4-l0/l3/l4\n",
        "\n",
        "KBM'I\u2018 12.00. KBTV 5.00\"\n",
        "UNKN .00!\n",
        "\n",
        "Printed: 06/27/l4 12:23 PM\n",
        "06/27/14 12:22 PM\n",
        "All Buylincs\n",
        "\n",
        "Rep Firm KATZ CONTINENTAL\n",
        "Sales Of\ufb01ce (DC) WASHINGTON\n",
        "Salesperson (LR4) LAURA REPP\n",
        "Sales Assistant DEVON\n",
        "\n",
        "Salesperson Phone!\n",
        "Salesperson Fax# 917-206-0428\n",
        "W 63.00\u2018 UAC 20.00t\n",
        "\n",
        "40f\n",
        "\n",
        "\n"
       ]
      }
     ],
     "prompt_number": 85
    },
    {
     "cell_type": "code",
     "collapsed": false,
     "input": [
      "api.End()"
     ],
     "language": "python",
     "metadata": {},
     "outputs": [],
     "prompt_number": 187
    },
    {
     "cell_type": "markdown",
     "metadata": {},
     "source": [
      "## Let's look at that OCR'd text and see what we can see"
     ]
    },
    {
     "cell_type": "code",
     "collapsed": false,
     "input": [
      "import re\n",
      "\n",
      "textfile_flags = (re.I&re.MULTILINE)\n",
      "\n",
      "doc_info = {}\n",
      "result = re.search(r'Rep Order#\\s+(\\d+)', norm_text, flags=textfile_flags)\n",
      "doc_info['order'] = result.group(0) if result else 'UNKNOWN'\n",
      "result = re.search(r'Station\\s+([\\w|\\-]+)', norm_text, flags=textfile_flags)\n",
      "doc_info['station'] = result.group(0) if result else 'UNKNOWN'\n",
      "result = re.search(r'Advertiser\\s+([\\w\\(\\)\\s\\,]+)\\s+\\n', norm_text, flags=textfile_flags)\n",
      "doc_info['advertiser'] = result.group(1) if result else 'UNKNOWN'\n",
      "# print(doc_info['advertiser'])\n",
      "result = re.search(r'Product\\s+([\\w\\s]+)(\\n|\\r)', norm_text, flags=re.I)\n",
      "doc_info['product'] = result.group(1).strip('\\n') if result else 'UNKNOWN'\n",
      "# print(doc_info['product'])\n",
      "result = re.search(r'Flight Dates\\s+([\\d\\/\\s\\-]+)\\s+', norm_text, flags=re.I)\n",
      "doc_info['flight_dates'] = result.group(0) if result else 'UNKNOWN'\n",
      "result = re.search(r'Order Totals.*(\\$[\\d\\,]+)', norm_text, flags=re.I)\n",
      "doc_info['order_total'] = result.group(1) if result else 'UNKNOWN'\n",
      "output_str = 'Found that \"{advertiser}\" ran ads for \"{product}\" on {station} for {order_total} on {flight_dates}'.format(**doc_info)\n",
      "print(output_str)"
     ],
     "language": "python",
     "metadata": {},
     "outputs": [
      {
       "output_type": "stream",
       "stream": "stdout",
       "text": [
        "Found that \"(ABGR) ABBOTT, GREG\" ran ads for \"Texans For Greg Abbo\" on Station KBMT-TV for $2,700 on UNKNOWN\n"
       ]
      }
     ],
     "prompt_number": 189
    },
    {
     "cell_type": "code",
     "collapsed": false,
     "input": [],
     "language": "python",
     "metadata": {},
     "outputs": []
    }
   ],
   "metadata": {}
  }
 ]
}