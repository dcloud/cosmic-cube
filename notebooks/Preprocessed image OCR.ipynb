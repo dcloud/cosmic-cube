{
 "metadata": {
  "name": "",
  "signature": "sha256:51f21f50f233d5070624cd3b1084b0648a5e7709f1c8ea76847112d60d3c75ad"
 },
 "nbformat": 3,
 "nbformat_minor": 0,
 "worksheets": [
  {
   "cells": [
    {
     "cell_type": "code",
     "collapsed": false,
     "input": [
      "import sys\n",
      "sys.path.append('/vagrant/cosmic-cube')"
     ],
     "language": "python",
     "metadata": {},
     "outputs": [],
     "prompt_number": 1
    },
    {
     "cell_type": "code",
     "collapsed": false,
     "input": [
      "import os\n",
      "import tesseract\n",
      "from vision import VisionImage\n",
      "import cv2\n",
      "import cv2.cv as cv\n",
      "\n",
      "from matplotlib import pyplot as plt\n",
      "from matplotlib import rcParams as pltSettings\n",
      "\n",
      "pltSettings['figure.figsize'] = (12.0, 24.0)\n",
      "pltSettings['figure.dpi'] = 160\n",
      "\n",
      "VAGRANT_PATH = '/vagrant/'\n",
      "TESSDATA = '/usr/share/tesseract-ocr/tessdata/'\n",
      "\n",
      "SAMPLE_DATA_PATH = os.path.join(VAGRANT_PATH, 'sample-data/')\n",
      "\n",
      "SAMPLE_PDF_IMAGE = os.path.join(SAMPLE_DATA_PATH, 'kbmt-tv-ad-1.ppm')"
     ],
     "language": "python",
     "metadata": {},
     "outputs": [],
     "prompt_number": 2
    },
    {
     "cell_type": "code",
     "collapsed": false,
     "input": [
      "vimg = VisionImage(SAMPLE_PDF_IMAGE)"
     ],
     "language": "python",
     "metadata": {},
     "outputs": [],
     "prompt_number": 3
    },
    {
     "cell_type": "code",
     "collapsed": false,
     "input": [
      "print(vimg.original.shape)\n",
      "print(vimg.original.dtype.itemsize * vimg.original.shape[1] * vimg.original.shape[2])"
     ],
     "language": "python",
     "metadata": {},
     "outputs": [
      {
       "output_type": "stream",
       "stream": "stdout",
       "text": [
        "(2530, 3301, 3)\n",
        "9903\n"
       ]
      }
     ],
     "prompt_number": 4
    },
    {
     "cell_type": "code",
     "collapsed": false,
     "input": [
      "api = tesseract.TessBaseAPI()\n",
      "api.Init(TESSDATA,\"eng\",tesseract.OEM_DEFAULT)\n",
      "api.SetPageSegMode(tesseract.PSM_AUTO)"
     ],
     "language": "python",
     "metadata": {},
     "outputs": [],
     "prompt_number": 5
    },
    {
     "cell_type": "code",
     "collapsed": false,
     "input": [
      "# What is the underlying data\n",
      "image_grey = cv.LoadImage(SAMPLE_PDF_IMAGE, cv2.CV_LOAD_IMAGE_GRAYSCALE)\n",
      "image_color = cv.LoadImage(SAMPLE_PDF_IMAGE, cv2.CV_LOAD_IMAGE_COLOR)"
     ],
     "language": "python",
     "metadata": {},
     "outputs": [],
     "prompt_number": 6
    },
    {
     "cell_type": "code",
     "collapsed": false,
     "input": [
      "print(image_grey)\n",
      "print(image_color)"
     ],
     "language": "python",
     "metadata": {},
     "outputs": [
      {
       "output_type": "stream",
       "stream": "stdout",
       "text": [
        "<iplimage(nChannels=1 width=3301 height=2530 widthStep=3304 )>\n",
        "<iplimage(nChannels=3 width=3301 height=2530 widthStep=9904 )>\n"
       ]
      }
     ],
     "prompt_number": 7
    },
    {
     "cell_type": "code",
     "collapsed": false,
     "input": [
      "print(vimg.grayscale_iplimage)\n",
      "print(vimg.otsu_iplimage)\n",
      "print(vimg.original_iplimage)"
     ],
     "language": "python",
     "metadata": {},
     "outputs": [
      {
       "output_type": "stream",
       "stream": "stdout",
       "text": [
        "<iplimage(nChannels=1 width=3301 height=2530 widthStep=3301 )>\n",
        "<iplimage(nChannels=1 width=3301 height=2530 widthStep=3301 )>"
       ]
      },
      {
       "output_type": "stream",
       "stream": "stdout",
       "text": [
        "\n",
        "<iplimage(nChannels=3 width=3301 height=2530 widthStep=9903 )>\n"
       ]
      }
     ],
     "prompt_number": 8
    },
    {
     "cell_type": "code",
     "collapsed": false,
     "input": [
      "# tesseract.SetCvImage segfaults on a cv2 imread image\n",
      "tesseract.SetCvImage(vimg.grayscale_iplimage, api)\n",
      "norm_text=api.GetUTF8Text()\n",
      "print(norm_text)"
     ],
     "language": "python",
     "metadata": {},
     "outputs": [
      {
       "output_type": "stream",
       "stream": "stdout",
       "text": [
        "ORDER WORKSHEET\n",
        "\n",
        "Rep Order# 9358799 Ver# 1 Status Confirmed Traf\ufb01c Ordcr# Printed: 06/27/14 12:23 PM I of 4\n",
        "EC\u2018d Yes Last Received: 06/27/14 l2:22 PM\n",
        "Showing Buylines: All Buylincs\n",
        "Station KBMT-TV BEAUMONT Agency (CRSS) CROSSROADS MEDIA LLC Rep Firm KATZ CONTINENTAL\n",
        "Advertiser (ABGR) ABBOTT, GREG 66 CANAL CENTER PLAZA, SUITE 555 Sales Of\ufb01ce (DC) WASHINGTON\n",
        "Product Texans For Greg Abbo ALEXANDRIA. VA 22314 Salesperson (LR4) LAURA REPP\n",
        "Estimate# 1823 Agency ClPl/PWE 96/ 198/ 1823 Sales A8sistant DEVON\n",
        "Buyer Patti Heck Flight Dates 10/97/14-10/13114 Salesperson Phoneil\n",
        "\n",
        "Salesperson Fm 917-206-0428\n",
        "\n",
        " \n",
        "\n",
        " \n",
        "\n",
        "CONTRACT COMMENT I I ] ~\n",
        "THESE ARE PLANNING RATES. ONCE WINDOW CARDS ARE RECEVIED ORDERS WILL BE REVISED; SEPARATION :30 , \\\n",
        "\u2018\u201d\u2019*****\"*******\"*\"**NONDISCRIMINATION**\u2018***\u201c'************ PARAGRAPHS 49 AND 50 OF THE UNITED STATES FEDERAL COMMUNICATIONS COMMISSION'S REPORT AND ORDER NO. 07-\n",
        "217 PROVIDES THAT BROADCAST STATIONS\u2018 ADVERTISING CONTRACTS WILL NOT DISCRIMINATE ON THE BASIS 0}? RACE OR ETHNICITY, AND MUST CONTAIN NONDISCRIMINATION CLAUSES.\n",
        "CONSIS\u2018I\u2018ENT WITH THIS ORDER, KATZ COMMUNICATIONS, INC. (INCLUDING ANY SUBSIDIARY OR DIVISION OF KATZ) DOES NOT DISCRIMINATB IN ANY BROADCAST ADVERTISING\n",
        "\n",
        "CONTRACT ON THE BASIS OF RACE OR ETHNICITY AND EVALUATES, NEGOTIATES AND COMPLETES ITS BROADCAST ADVERTISING CONTRACTS WITHOUT REGARD TO RACE OR ETHNICITY.\n",
        "\n",
        "Ln Day Time Program Len RTG/IMP GRPs/ Rate Dates Spots] Num of Total Total Cost\n",
        "(000) Week Weeks Spots\n",
        ".7  \"\"\" \"JJQIJJQS\u2018J'MQB\u2019QT' \"\"\"\"\"\"\"\"\"\"\"\" \"3.; \u201c\u201c \"I \"\"\" \"I \"\"\"\" \"$172.3; \"\" \".\u2018J;JJ.I;;;. \"\"\"  \"\"\"\" \"1 \"\"\"\" '; \"\"\" 1;}; \"\"\" \"\n",
        "{7(2 w 10P-1035P KBMT 12 NEWS 30 - ~ $175.00 10/00-10/03 1 1 1 $175.00\n",
        "L/ 3 Th 1013\u201410352 mm 12 NEWS 30 - - $175.00 10/09-10/09 1 1 1 $175.00\n",
        "L/ 4 F 109\u201410359 ICBMT 12 NEWS 30 - \u2014 $175.00 10/10\u201410/10 1 1 1 $175.00\n",
        "C/ 5 Tu 10A-11A THE VIEW 30 ~ \u2014 $35.00 10/07\u201410/07 1 1 1 $35.00\n",
        "c'/ 6 w 1011-1111 THE VIEW 30 \u2014 - $35.00 10/08-10/03 1 1 1 $35.00\n",
        "L/ 7 Th 1015-1111 THE VIEW 30 \u2014 - $35.00 10/09-10/09 1 1 1 $35.00\n",
        "L/ 8 F 1011\u20141111 THE VIEW 30 \u2014 - $35.00 10/10\u201410/10 1 1 1 $35.00\n",
        "(/9 Tu 6A-7A 12 NEWS DAYBREAK-GA \\' f\u2018   3o \u2014 \u2014 $80.00 10/07\u201410/0'7 1 1 1 $80.00\n",
        "L/ 10 w 6A-7A 12 NEWS DAYBREAK\u2014SA 30 - \u2014 $80.00 10/08\u201410/08 1 1 1 $00.00\n",
        "1/ 11 Th 6A-7A 12 NEWS DAYBREAK-GA 30 - - $30.00 10/09-10/09 1 1 1 $00.00\n",
        "\n",
        "(7/ 12 P 6A-7A 12 ms DAYBREAK-SA 30 - \u2014 $00.00 10/10-10/10 1 1 1 $00.00\n",
        "\n",
        "\n"
       ]
      }
     ],
     "prompt_number": 9
    },
    {
     "cell_type": "code",
     "collapsed": false,
     "input": [
      "tesseract.SetCvImage(vimg.otsu_iplimage, api)\n",
      "otsu_text=api.GetUTF8Text()\n",
      "print(otsu_text)"
     ],
     "language": "python",
     "metadata": {},
     "outputs": [
      {
       "output_type": "stream",
       "stream": "stdout",
       "text": [
        "ORDER WORKSHEET\n",
        "\n",
        "Rep Order\ufb01 9358799 Vcr\ufb02 1 Status Con\ufb01rmcd Traf\ufb01c Orderti Printed: O6/27/l4 12:23 PM | of 4\n",
        "EC\u2018d Yes Last Received: 06/27/14 l2:22 PM\n",
        "Showing Buyllnes: All Buylincs\n",
        "Station KBMT-TV BEAUMONT Agency (CRSS) CROSSROADS MEDIA LLC Rep Finn KA'I\u2018Z CONTINENTAL\n",
        "Advertiser (ABGR) ABBOTT, GREG 66 CANAL CENTER PLAZA. SUITE 555 Sales Office (DC) WASHINGTON\n",
        "Product Texans For Greg Abbe ALEXANDRIA. VA 223 I4 Salesperson (LR4) LAURA REPP\n",
        "Estimated 1823 Agency ClPl/I\u2019Z/E 96/]98/1823 Sales Assistant DEVON\n",
        "Buyer Patti Hock Flight Dates 10/07] l4\u2014lO/l 3/14 Salesperson Phone\ufb02\n",
        "\n",
        "Salesperson Fm 917-206-0428\n",
        "\n",
        " \n",
        "\n",
        " \n",
        "\n",
        "m comer COMMENT\u2014 I . \u2019\n",
        "\n",
        "THESE ARE PLANNING RATES. ONCE WINDOW CARDS ARR RECKVIED ORDERS \"ILL 83 RBVISED; SEPARATION :30 , \\\n",
        "'H\"\"N\"N'**'*'*\u201c'NONDISCRIHINATION\"'\u201c*H\u201c\"\u201cN'Hn PARAGRAPHS 49 AND 50 OF THE UNITED STATES FEDERAL COMMUNICATIONS COWISSION'S REPORT AND ORDER NO. 07-\n",
        "217 PROVIDES THAT BROADCAST STATIONS\u2018 ADVERTISING CONTRACTS WILL NOT DISCRIMINATB ON THE BASIS OF RACE 01?. ETHNICITY, AND MUST CONTAIN NONDISCRIMINATION CLAUSES.\n",
        "CONSISTBNT WITH THIS ORDER, KATZ COMMUNICATIONS, INC. (INCLUDING ANY SUBSIDIARY OR DIVISION OF RATZ) DOES NOT DISCRIMINATB IN ANY BROADCAST ADVERTISING\n",
        "\n",
        "CONTRACT ON THE BASIS OF RACE OR ETHNICITY AND BVALUATES, NEGOTIATES AND COHPLE'I'BS ITS BROADCAST ADVERTISING CONTRACTS WITHOUT REGARD '10 RACE OR ETHNICITY.\n",
        "\n",
        "Ln Day Time Program Len R'DG/IMP GRPs/ Rate Dates Spots/ Run of Total Total Cost\n",
        "(000) week Weeks Spots\n",
        ".1.  \"\"\" \"{;;I{;;;;\"\"1;.; \"\"\"\"\"\"\"\"\"\"\" 3; \"\"\" 'I \"\"\" \"I \"\"\"\" ESQ}; \"\" \"1'0\u2018;JJ.'.';;.'. \"\"  \"\"\" \"1 \"\"\" '1 \"\"\" \"15:3; \"\"\" \"\n",
        "47(- 2 w 10P-1035P 1mm 12 NEWS 30 - \u2014 $175.00 1o/oa-1o/oa 1 1 1 $175.00\n",
        "L/ 3 7.11 10P-103SP m 12 NEWS 30 - - $175.00 10/09-10/09 1 1 1 $175.00\n",
        "L/ 4 F 109-10359 KBMT 12 ms 30 - \u2014 $175.00 10/10\u201410/10 1 1 1 $175.00\n",
        "C/ 5 m IDA-11A m2 VIBH 30 - - $35.00 10/07-10/07 1 1 1 $35.00\n",
        "(v/ 6 I 1021-1111 THE VI!!! 30 \u2014 - $35.00 10/03-10/05 1 1 1 $35.00\n",
        "k/ 7 Th 101-1111 m3 VIEW 30 - - $35.00 10/09-10/09 1 1 1 $35.00\n",
        "L/ e P loA-llA 17-13 VIE\" 30 - - $35.00 10/10-10/10 1 1 1 $35.00\n",
        "(/9 'm 611-711 12 ms DAYBRSAK-6A I 5' K x 30 - - $00.00 10/07-10/07 1 1 1 $00.00\n",
        "V 10 w 6A-7A 12 ms DAYBREAK-SA 30 - - $80.00 10/00-10/00 1 1 1 $00.00\n",
        "(I 11 Th 6A-7A 12 ms DAYBREAK-SA 30 - - $00.00 10/09-10/09 1 1 1 $80.00\n",
        "\n",
        "if 12 P 6A-7A 12 NEWS DAYBREAK-SA 30 - - $80.00 10/10-10/10 1 1 1 $80.00\n",
        "\n",
        "\n"
       ]
      }
     ],
     "prompt_number": 10
    },
    {
     "cell_type": "code",
     "collapsed": false,
     "input": [
      "cv2.imwrite('/vagrant/kbmt-tv-ad-1-otsu.tif', vimg.otsu)\n",
      "cv2.imwrite('/vagrant/kbmt-tv-ad-1-gray.tif', vimg.grayscale)\n",
      "cv.SaveImage('/vagrant/kbmt-tv-ad-1-otsu-ipl.tif', vimg.otsu_iplimage)"
     ],
     "language": "python",
     "metadata": {},
     "outputs": [],
     "prompt_number": 14
    },
    {
     "cell_type": "code",
     "collapsed": false,
     "input": [],
     "language": "python",
     "metadata": {},
     "outputs": []
    }
   ],
   "metadata": {}
  }
 ]
}