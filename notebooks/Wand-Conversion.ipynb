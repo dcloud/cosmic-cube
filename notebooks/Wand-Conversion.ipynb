{
 "metadata": {
  "name": "",
  "signature": "sha256:901d0ec94b6e6c22b9e0af88b48ddef5c24f3ba49043951e6bc0d02d6c16493b"
 },
 "nbformat": 3,
 "nbformat_minor": 0,
 "worksheets": [
  {
   "cells": [
    {
     "cell_type": "markdown",
     "metadata": {},
     "source": [
      "## If you want to see how ImageMagick/Wand fails\n",
      "\n",
      "The scaling methods in ImageMagick appear to be far worse than using `pdftoppm` with the resolution argument"
     ]
    },
    {
     "cell_type": "code",
     "collapsed": false,
     "input": [
      "from __future__ import division\n",
      "\n",
      "from wand.image import Image\n",
      "from wand.image import FILTER_TYPES\n",
      "\n",
      "BASE_NAME = 'kbmt-tv-ad'\n",
      "IMG_FORMAT = 'ppm'\n",
      "BASE_DIR = '/vagrant/sample-data/'"
     ],
     "language": "python",
     "metadata": {},
     "outputs": [],
     "prompt_number": 10
    },
    {
     "cell_type": "code",
     "collapsed": false,
     "input": [
      "print(FILTER_TYPES)"
     ],
     "language": "python",
     "metadata": {},
     "outputs": [
      {
       "output_type": "stream",
       "stream": "stdout",
       "text": [
        "('undefined', 'point', 'box', 'triangle', 'hermite', 'hanning', 'hamming', 'blackman', 'gaussian', 'quadratic', 'cubic', 'catrom', 'mitchell', 'jinc', 'sinc', 'sincfast', 'kaiser', 'welsh', 'parzen', 'bohman', 'bartlett', 'lagrange', 'lanczos', 'lanczossharp', 'lanczos2', 'lanczos2sharp', 'robidoux', 'robidouxsharp', 'cosine', 'spline', 'sentinel')\n"
       ]
      }
     ],
     "prompt_number": 11
    },
    {
     "cell_type": "code",
     "collapsed": false,
     "input": [
      "pdf_image = Image(filename='{}kbmt-tv-ad.pdf'.format(BASE_DIR))\n",
      "print(pdf_image.width)\n",
      "\n",
      "SCALE_TO_DPI = 300\n",
      "img_ratio = (SCALE_TO_DPI/pdf_image.resolution[0])\n",
      "dimensions = (int(round(pdf_image.width*img_ratio)), int(round(pdf_image.height*img_ratio)))\n",
      "print(dimensions)"
     ],
     "language": "python",
     "metadata": {},
     "outputs": [
      {
       "output_type": "stream",
       "stream": "stdout",
       "text": [
        "792\n",
        "(3300, 2538)\n"
       ]
      }
     ],
     "prompt_number": 14
    },
    {
     "cell_type": "code",
     "collapsed": false,
     "input": [
      "for n, page in enumerate(pdf_image.sequence, start=1):\n",
      "    clone_img = page.clone()\n",
      "    clone_img.resize(dimensions[0], dimensions[1])\n",
      "    ppm_img = clone_img.convert(IMG_FORMAT)\n",
      "    img_filename = '{}{}-{}-test.{}'.format(BASE_DIR, BASE_NAME, n, IMG_FORMAT)\n",
      "    print(img_filename)\n",
      "    ppm_img.save(filename=img_filename)"
     ],
     "language": "python",
     "metadata": {},
     "outputs": [
      {
       "output_type": "stream",
       "stream": "stdout",
       "text": [
        "/vagrant/sample-data/kbmt-tv-ad-1-test.ppm\n",
        "/vagrant/sample-data/kbmt-tv-ad-2-test.ppm"
       ]
      },
      {
       "output_type": "stream",
       "stream": "stdout",
       "text": [
        "\n",
        "/vagrant/sample-data/kbmt-tv-ad-3-test.ppm"
       ]
      },
      {
       "output_type": "stream",
       "stream": "stdout",
       "text": [
        "\n",
        "/vagrant/sample-data/kbmt-tv-ad-4-test.ppm"
       ]
      },
      {
       "output_type": "stream",
       "stream": "stdout",
       "text": [
        "\n"
       ]
      }
     ],
     "prompt_number": 16
    },
    {
     "cell_type": "code",
     "collapsed": false,
     "input": [],
     "language": "python",
     "metadata": {},
     "outputs": [],
     "prompt_number": 65
    },
    {
     "cell_type": "code",
     "collapsed": false,
     "input": [],
     "language": "python",
     "metadata": {},
     "outputs": []
    }
   ],
   "metadata": {}
  }
 ]
}