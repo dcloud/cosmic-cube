{
 "metadata": {
  "name": "",
  "signature": "sha256:677f50f20c86e527bb28b5969fcb440f9759d66424a1b423b351fdfb478c10dc"
 },
 "nbformat": 3,
 "nbformat_minor": 0,
 "worksheets": [
  {
   "cells": [
    {
     "cell_type": "code",
     "collapsed": false,
     "input": [
      "import sys\n",
      "sys.path.append('/vagrant/cosmic-cube')"
     ],
     "language": "python",
     "metadata": {},
     "outputs": [],
     "prompt_number": 1
    },
    {
     "cell_type": "code",
     "collapsed": false,
     "input": [
      "import os\n",
      "import tesseract\n",
      "import cv2\n",
      "import re\n",
      "import unicodedata \n",
      "\n",
      "VAGRANT_PATH = '/vagrant/'\n",
      "TESSDATA = '/usr/share/tesseract-ocr/tessdata/'\n",
      "\n",
      "SAMPLE_DATA_PATH = os.path.join(VAGRANT_PATH, 'sample-data/')"
     ],
     "language": "python",
     "metadata": {},
     "outputs": [],
     "prompt_number": 25
    },
    {
     "cell_type": "code",
     "collapsed": false,
     "input": [
      "keyphrases = [\n",
      "    'Advertiser', \n",
      "    'Agency', \n",
      "    'Brand', \n",
      "    'Buyer', \n",
      "    'Contract', \n",
      "    'Net Total', \n",
      "    'Order Total',\n",
      "    'Product', \n",
      "    'Salesperson', \n",
      "    'Schedule Dates'\n",
      "]"
     ],
     "language": "python",
     "metadata": {},
     "outputs": [],
     "prompt_number": 11
    },
    {
     "cell_type": "code",
     "collapsed": false,
     "input": [
      "pdf_images = [os.path.join(SAMPLE_DATA_PATH, x) for x in os.listdir(SAMPLE_DATA_PATH) if 'REPUBLICANPARTYFL3PAC' in x and x.endswith('ppm')]\n",
      "print(len(pdf_images))"
     ],
     "language": "python",
     "metadata": {},
     "outputs": [
      {
       "output_type": "stream",
       "stream": "stdout",
       "text": [
        "22\n"
       ]
      }
     ],
     "prompt_number": 12
    },
    {
     "cell_type": "code",
     "collapsed": false,
     "input": [
      "api = tesseract.TessBaseAPI()\n",
      "api.Init(TESSDATA,\"eng\",tesseract.OEM_DEFAULT)\n",
      "api.SetPageSegMode(tesseract.PSM_AUTO)"
     ],
     "language": "python",
     "metadata": {},
     "outputs": [],
     "prompt_number": 13
    },
    {
     "cell_type": "code",
     "collapsed": false,
     "input": [
      "img = image=cv2.cv.LoadImage(pdf_images[0], cv2.CV_LOAD_IMAGE_GRAYSCALE)\n",
      "print(pdf_images[0])\n",
      "print(img)"
     ],
     "language": "python",
     "metadata": {},
     "outputs": [
      {
       "output_type": "stream",
       "stream": "stdout",
       "text": [
        "/vagrant/sample-data/REPUBLICANPARTYFL3PAC-01.ppm\n",
        "<iplimage(nChannels=1 width=3301 height=2550 widthStep=3304 )>\n"
       ]
      }
     ],
     "prompt_number": 15
    },
    {
     "cell_type": "code",
     "collapsed": false,
     "input": [
      "tesseract.SetCvImage(img, api)"
     ],
     "language": "python",
     "metadata": {},
     "outputs": [],
     "prompt_number": 18
    },
    {
     "cell_type": "code",
     "collapsed": false,
     "input": [
      "img_text = api.GetUTF8Text()\n",
      "print(type(img_text))"
     ],
     "language": "python",
     "metadata": {},
     "outputs": [
      {
       "output_type": "stream",
       "stream": "stdout",
       "text": [
        "<type 'str'>\n"
       ]
      }
     ],
     "prompt_number": 35
    },
    {
     "cell_type": "code",
     "collapsed": false,
     "input": [
      "latin_ligatures = u'([\ufb00\ufb01\ufb02\ufb03\ufb04\ufb06])'\n",
      "\n",
      "fancy_quotes_reg = u'([\\u2018-\\u201F]+)'\n",
      "\n",
      "text_uni = unicode(img_text.strip(), encoding='utf-8')\n",
      "\n",
      "text_uni = text_uni.replace(ur'\ufb01', 'fi')\n",
      "text_uni = text_uni.replace(ur'\ufb02', 'fl')\n",
      "\n",
      "\n",
      "quote_errors_reg = ur'\\s(\\w+{}\\w+)\\s'.format(fancy_quotes_reg)\n",
      "\n",
      "matches = re.finditer(quote_errors_reg, text_uni, flags=re.M|re.U)\n",
      "\n",
      "for m in matches:\n",
      "    print(m, m.groups())\n",
      "    item = m.group(0)\n",
      "#     print(unicodedata.name(item))\n",
      "else:\n",
      "    print('No matches')\n",
      "# print(norm_text)"
     ],
     "language": "python",
     "metadata": {},
     "outputs": [
      {
       "output_type": "stream",
       "stream": "stdout",
       "text": [
        "No matches\n"
       ]
      }
     ],
     "prompt_number": 67
    },
    {
     "cell_type": "code",
     "collapsed": false,
     "input": [
      "print(unicodedata.name(u'\u2018'))\n",
      "print(u'\u2018')"
     ],
     "language": "python",
     "metadata": {},
     "outputs": [
      {
       "output_type": "stream",
       "stream": "stdout",
       "text": [
        "LEFT SINGLE QUOTATION MARK\n",
        "\u2018\n"
       ]
      }
     ],
     "prompt_number": 33
    },
    {
     "cell_type": "code",
     "collapsed": false,
     "input": [],
     "language": "python",
     "metadata": {},
     "outputs": []
    }
   ],
   "metadata": {}
  }
 ]
}