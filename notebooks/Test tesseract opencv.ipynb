{
 "metadata": {
  "name": "",
  "signature": "sha256:ed5b7d8fa1a5eef1e308e46a0773c6a0dbfc5a2d68c1fa50ed253b939b1b8441"
 },
 "nbformat": 3,
 "nbformat_minor": 0,
 "worksheets": [
  {
   "cells": [
    {
     "cell_type": "code",
     "collapsed": false,
     "input": [
      "import sys\n",
      "sys.path.append('/vagrant/cosmic-cube')"
     ],
     "language": "python",
     "metadata": {},
     "outputs": [],
     "prompt_number": 1
    },
    {
     "cell_type": "code",
     "collapsed": false,
     "input": [
      "import os\n",
      "import tesseract\n",
      "from vision import VisionImage\n",
      "import cv2\n",
      "import cv2.cv as cv\n",
      "\n",
      "VAGRANT_PATH = '/vagrant/'\n",
      "TESSDATA = '/usr/share/tesseract-ocr/tessdata/'\n",
      "\n",
      "SAMPLE_DATA_PATH = os.path.join(VAGRANT_PATH, 'sample-data/')\n",
      "\n",
      "SAMPLE_PDF_IMAGE = os.path.join(SAMPLE_DATA_PATH, 'kbmt-tv-ad-1.ppm')"
     ],
     "language": "python",
     "metadata": {},
     "outputs": [],
     "prompt_number": 2
    },
    {
     "cell_type": "code",
     "collapsed": false,
     "input": [
      "vimg = VisionImage(SAMPLE_PDF_IMAGE)\n",
      "print(vimg.grayscale)"
     ],
     "language": "python",
     "metadata": {},
     "outputs": [
      {
       "output_type": "stream",
       "stream": "stdout",
       "text": [
        "[[255 255 255 ..., 255 255 255]\n",
        " [255 255 255 ..., 255 255 255]\n",
        " [255 255 255 ..., 255 255 255]\n",
        " ..., \n",
        " [255 255 255 ..., 255 255 255]\n",
        " [255 255 255 ..., 255 255 255]\n",
        " [255 255 255 ..., 255 255 255]]\n"
       ]
      }
     ],
     "prompt_number": 3
    },
    {
     "cell_type": "code",
     "collapsed": false,
     "input": [
      "vimg.generate_rectangles()"
     ],
     "language": "python",
     "metadata": {},
     "outputs": [],
     "prompt_number": 4
    },
    {
     "cell_type": "code",
     "collapsed": false,
     "input": [
      "api = tesseract.TessBaseAPI()\n",
      "api.Init(TESSDATA,\"eng\",tesseract.OEM_DEFAULT)\n",
      "api.SetPageSegMode(tesseract.PSM_AUTO)"
     ],
     "language": "python",
     "metadata": {},
     "outputs": [],
     "prompt_number": 16
    },
    {
     "cell_type": "code",
     "collapsed": false,
     "input": [
      "# What is the underlying data\n",
      "image= cv.LoadImage(SAMPLE_PDF_IMAGE, cv2.CV_LOAD_IMAGE_GRAYSCALE)"
     ],
     "language": "python",
     "metadata": {},
     "outputs": [],
     "prompt_number": 17
    },
    {
     "cell_type": "code",
     "collapsed": false,
     "input": [
      "print(image)"
     ],
     "language": "python",
     "metadata": {},
     "outputs": [
      {
       "output_type": "stream",
       "stream": "stdout",
       "text": [
        "<iplimage(nChannels=1 width=1651 height=1265 widthStep=1652 )>\n"
       ]
      }
     ],
     "prompt_number": 20
    },
    {
     "cell_type": "code",
     "collapsed": false,
     "input": [
      "# tesseract.SetCvImage segfaults on a cv2 imread image\n",
      "tesseract.SetCvImage(image, api)"
     ],
     "language": "python",
     "metadata": {},
     "outputs": [],
     "prompt_number": 18
    },
    {
     "cell_type": "code",
     "collapsed": false,
     "input": [
      "text=api.GetUTF8Text()\n",
      "print(text)"
     ],
     "language": "python",
     "metadata": {},
     "outputs": [
      {
       "output_type": "stream",
       "stream": "stdout",
       "text": [
        "ORDER WORKSHEET\n",
        "\n",
        "Rep 0mm 93521799 Ver# 1 Status Confirmed Traf\ufb01c 0mm mama: 06/27/|4 1223 PM I of 4\n",
        "EC'd Yes Lnsl Received: 06/27/14 12:22 PM\n",
        "Shaving Buyllnes: A11 Buylius\n",
        "sud-m KBMT-TV BEAUMONT Agency (CRSS) CROSSROADS MEDIA LLc Rzp \u201crm KA12 CONTINENTAL\n",
        "Aavmlser (ABGR) ABBOTT, GREG 66 CANAL CENTER PLAZA, sum; 555 Slles omce (DC) WASHINGTON\n",
        "Product Texans For Greg Abba ALEXANDRIA, VA 223 I4 Snlesperson (L114) LAURA REP?\n",
        "Estimma 1323 Agzncy 0mm 96ll98/1323 SIIes Assistant DEVON\n",
        "Buyer Patti Hack Flight Dltgs 10/07/1440/13/14 suswm Phnndf\n",
        "\n",
        "Salesperson Fm 91740670428\n",
        "\n",
        " \n",
        "\n",
        " \n",
        "\n",
        "- CONTKACI' COMMENT _. / . \u2019\n",
        "\n",
        "THESE ARE PIAIINING RATE. ONCE HINDU\" CARDS ARE RECEVIED ORDERS WILL BE REVISED; SEPARATION :30 v \\\n",
        "\n",
        "\u20189 AIID 50 OF THE UNITE} STATES FEDERAL CDMMDNI'MTIONS COMMISSION'S EFDRT AND ORDER NO. 07-\n",
        "217 PROVIDES THAT BROADCAST STATIONS\u2018 ADVERTISING CONTRACTS WILL um DISCRIMINATE all THE BASIS OF RACE 0R ETHNICITY, AND MUST CONTAIN NQIIDISCRIMINATIOR CMUSES.\n",
        "CDNSISTENT WITH THIS DRDBR. KATZ COMMUNICATIONS, INC. (INCLUDING ANY SUBSIDIARY OE DIVISION OF KATZ) DOES NOT DISCRIMINATE IN All\u201c! BROADCAST AIN'ERTISINO\n",
        "CONTRACT ON THE BASIS 0? RACE OR ETHNICITY AND EVALUATES, IIEGMIATEB AND COMPLETES ITS BROADCAST ADVERTISIM COVERACFS WITHOUT REGARD TO RACE 0R ETHNICITY,\n",
        "\n",
        " \n",
        "\n",
        " \n",
        "\n",
        " \n",
        "\n",
        "In Day Time Prugram Len Ere/IMP GRPA/ Rate Dates Sputs/ Hum at Total Total cost\n",
        "(non) Week weeks Spots\n",
        "I 1- 'm 1np71ozsl> 1mm 12 News 30 7 7 $175.00 10/u7-10/n7 1 1 1 $175.00\n",
        "7(2 w 10137103513 1mm 12 ms 30 - 7 $175.00 10/na~1n/na 1 1 1 $175.00\n",
        "q 3 Th 1013710351: m 12 nails 30 - - $175.00 10/09-10/119 1 1 1 $175.00\n",
        "L/ 4 F 1012-10351? ICBMT 12 mm 30 7 7 5175.00 10/10\u201410/10 1 1 1 $175.00\n",
        "(/ 5 m 1011-1141 THE VIEM 30 - 7 515,00 10/07-10/07 1 1 1 535.00\n",
        "L/ s I! 1011-1131 THE vim an - - $35.00 10/05-10/08 1 1 1 535.00\n",
        "V 7 Th 101-111 11-12 v1\u201c :0 - 7 $35.00 10/05-10/09 1 1 1 535.00\n",
        "L/ s P IDA-11A Tm! VIEW 30 - 7 $35.00 10/10-10/10 1 1 1 535.00\n",
        "(/9 m GA-\u2018IA 12 ms harem-611 V ;\\~ ~ 30 - - samno 10/07710/07 1 1 1 $90.00\n",
        "V 10 W 51-71 12 NEWS DAYBREAX\u2014ER so - - samno 10/05710/00 1 1 1 $50.00\n",
        "L/ 11 Th 517711 12 ms mum-5A an 7 - 330.110 lo/us-lD/DB 1 1 1 350.00\n",
        "\n",
        "L/ 12 F 517711 12 ms DAYBRm-EA 30 - - $50.00 10/10-10/10 1 1 1 $90.00\n",
        "\n",
        "\n"
       ]
      }
     ],
     "prompt_number": 19
    },
    {
     "cell_type": "code",
     "collapsed": false,
     "input": [],
     "language": "python",
     "metadata": {},
     "outputs": []
    }
   ],
   "metadata": {}
  }
 ]
}